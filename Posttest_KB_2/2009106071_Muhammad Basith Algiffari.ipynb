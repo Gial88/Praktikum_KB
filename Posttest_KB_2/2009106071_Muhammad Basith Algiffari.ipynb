{
 "cells": [
  {
   "cell_type": "markdown",
   "id": "03ae68ea-da6b-4741-9c88-55ce42565ae1",
   "metadata": {},
   "source": [
    "Mengimport Pandas"
   ]
  },
  {
   "cell_type": "code",
   "execution_count": 7,
   "id": "2e1e0e3a-f4f9-42e4-89c6-57770a3ff32d",
   "metadata": {},
   "outputs": [],
   "source": [
    "import pandas as pd"
   ]
  },
  {
   "cell_type": "markdown",
   "id": "2a47acec-98c0-4e0a-b83c-0bee90b9c3e6",
   "metadata": {},
   "source": [
    "Menampilkan dan Mengimport dataset menggunakan dataFrame"
   ]
  },
  {
   "cell_type": "code",
   "execution_count": 11,
   "id": "e3d21bc8-26ef-4b10-8b33-822661e27988",
   "metadata": {},
   "outputs": [
    {
     "data": {
      "text/html": [
       "<div>\n",
       "<style scoped>\n",
       "    .dataframe tbody tr th:only-of-type {\n",
       "        vertical-align: middle;\n",
       "    }\n",
       "\n",
       "    .dataframe tbody tr th {\n",
       "        vertical-align: top;\n",
       "    }\n",
       "\n",
       "    .dataframe thead th {\n",
       "        text-align: right;\n",
       "    }\n",
       "</style>\n",
       "<table border=\"1\" class=\"dataframe\">\n",
       "  <thead>\n",
       "    <tr style=\"text-align: right;\">\n",
       "      <th></th>\n",
       "      <th>Name</th>\n",
       "      <th>Brand</th>\n",
       "      <th>Price</th>\n",
       "      <th>DiscountedPrice</th>\n",
       "      <th>BreadCrumbs</th>\n",
       "      <th>Category</th>\n",
       "      <th>SubCategory</th>\n",
       "      <th>Quantity</th>\n",
       "      <th>Description</th>\n",
       "      <th>LongDescription</th>\n",
       "    </tr>\n",
       "  </thead>\n",
       "  <tbody>\n",
       "    <tr>\n",
       "      <th>0</th>\n",
       "      <td>Glass Water Tumbler Set - Acme Elite</td>\n",
       "      <td>Treo</td>\n",
       "      <td>550</td>\n",
       "      <td>299.0</td>\n",
       "      <td>Serveware / Dining &amp; Serving</td>\n",
       "      <td>Serveware</td>\n",
       "      <td>Dining &amp; Serving</td>\n",
       "      <td>6*300 ml</td>\n",
       "      <td></td>\n",
       "      <td>Design:Made from premium quality Glass</td>\n",
       "    </tr>\n",
       "    <tr>\n",
       "      <th>1</th>\n",
       "      <td>Papad Plain</td>\n",
       "      <td>NILGIRIS</td>\n",
       "      <td>85</td>\n",
       "      <td>42.5</td>\n",
       "      <td>Packaged Food / Pickles &amp; Papads</td>\n",
       "      <td>Packaged Food</td>\n",
       "      <td>Pickles &amp; Papads</td>\n",
       "      <td>200 g</td>\n",
       "      <td>Nilgiris plain papad can be enjoyed when you'r...</td>\n",
       "      <td>Nilgiris plain papad can be enjoyed when you'r...</td>\n",
       "    </tr>\n",
       "    <tr>\n",
       "      <th>2</th>\n",
       "      <td>Papad Plain</td>\n",
       "      <td>NILGIRIS</td>\n",
       "      <td>45</td>\n",
       "      <td>22.5</td>\n",
       "      <td>Packaged Food / Pickles &amp; Papads</td>\n",
       "      <td>Packaged Food</td>\n",
       "      <td>Pickles &amp; Papads</td>\n",
       "      <td>100 ml</td>\n",
       "      <td>Nilgiris plain papad can be enjoyed when you'r...</td>\n",
       "      <td>Nilgiris plain papad can be enjoyed when you'r...</td>\n",
       "    </tr>\n",
       "    <tr>\n",
       "      <th>3</th>\n",
       "      <td>Smart Kit With Bag</td>\n",
       "      <td>Doms</td>\n",
       "      <td>500</td>\n",
       "      <td>499.0</td>\n",
       "      <td>Stationery / Art &amp; Craft Supplies</td>\n",
       "      <td>Stationery</td>\n",
       "      <td>Art &amp; Craft Supplies</td>\n",
       "      <td>1 Pcs</td>\n",
       "      <td></td>\n",
       "      <td>Smart Kit With Bag     Ideal for gifting</td>\n",
       "    </tr>\n",
       "    <tr>\n",
       "      <th>4</th>\n",
       "      <td>6.2 kg Top Loading Fully Automatic Washing Mac...</td>\n",
       "      <td>KORYO</td>\n",
       "      <td>15,000.00</td>\n",
       "      <td>10490.0</td>\n",
       "      <td>Home Appliances / Home &amp; Kitchen Appliances</td>\n",
       "      <td>Home Appliances</td>\n",
       "      <td>Home &amp; Kitchen Appliances</td>\n",
       "      <td>1 pcs</td>\n",
       "      <td></td>\n",
       "      <td>One Touch Smart Wash Button8 Wash ProgramsMagi...</td>\n",
       "    </tr>\n",
       "    <tr>\n",
       "      <th>...</th>\n",
       "      <td>...</td>\n",
       "      <td>...</td>\n",
       "      <td>...</td>\n",
       "      <td>...</td>\n",
       "      <td>...</td>\n",
       "      <td>...</td>\n",
       "      <td>...</td>\n",
       "      <td>...</td>\n",
       "      <td>...</td>\n",
       "      <td>...</td>\n",
       "    </tr>\n",
       "    <tr>\n",
       "      <th>26940</th>\n",
       "      <td>Cashew Value Pack</td>\n",
       "      <td>KARMIQ</td>\n",
       "      <td>135</td>\n",
       "      <td>109.0</td>\n",
       "      <td>Staples / Dry Fruits &amp; Nuts / Festive Store</td>\n",
       "      <td>Staples</td>\n",
       "      <td>Festive Store</td>\n",
       "      <td>100 g</td>\n",
       "      <td></td>\n",
       "      <td>Karmiq Cashews come with a naturally sweet fla...</td>\n",
       "    </tr>\n",
       "    <tr>\n",
       "      <th>26941</th>\n",
       "      <td>Mid Rise Printed Dhoti Pants</td>\n",
       "      <td>DJ &amp; C</td>\n",
       "      <td>749</td>\n",
       "      <td>374.5</td>\n",
       "      <td>Kids</td>\n",
       "      <td>Kids</td>\n",
       "      <td>NaN</td>\n",
       "      <td>15-16 Yrs</td>\n",
       "      <td>Up the style quotient of your little girl's ca...</td>\n",
       "      <td>Fabric &amp; Care:Made of 100% Cotton FabricDo not...</td>\n",
       "    </tr>\n",
       "    <tr>\n",
       "      <th>26942</th>\n",
       "      <td>Ujjaini Poha</td>\n",
       "      <td>ektaa</td>\n",
       "      <td>90</td>\n",
       "      <td>66.0</td>\n",
       "      <td>Staples / Other Cereals</td>\n",
       "      <td>Staples</td>\n",
       "      <td>Other Cereals</td>\n",
       "      <td>1 kg</td>\n",
       "      <td></td>\n",
       "      <td>Ektaa brings to you authentic foods from diver...</td>\n",
       "    </tr>\n",
       "    <tr>\n",
       "      <th>26943</th>\n",
       "      <td>Ujjaini Poha</td>\n",
       "      <td>ektaa</td>\n",
       "      <td>45</td>\n",
       "      <td>39.0</td>\n",
       "      <td>Staples / Other Cereals</td>\n",
       "      <td>Staples</td>\n",
       "      <td>Other Cereals</td>\n",
       "      <td>500 g</td>\n",
       "      <td></td>\n",
       "      <td>Ektaa brings to you authentic foods from diver...</td>\n",
       "    </tr>\n",
       "    <tr>\n",
       "      <th>26944</th>\n",
       "      <td>Button Closer Ladies Wallet</td>\n",
       "      <td>Ivory Tag</td>\n",
       "      <td>499</td>\n",
       "      <td>499.0</td>\n",
       "      <td>Women</td>\n",
       "      <td>Women</td>\n",
       "      <td>NaN</td>\n",
       "      <td>S</td>\n",
       "      <td></td>\n",
       "      <td>a. BI-Fold Wallet with coin Pocket.b.  5 card ...</td>\n",
       "    </tr>\n",
       "  </tbody>\n",
       "</table>\n",
       "<p>26945 rows × 10 columns</p>\n",
       "</div>"
      ],
      "text/plain": [
       "                                                    Name      Brand  \\\n",
       "0                   Glass Water Tumbler Set - Acme Elite       Treo   \n",
       "1                                            Papad Plain   NILGIRIS   \n",
       "2                                            Papad Plain   NILGIRIS   \n",
       "3                                     Smart Kit With Bag       Doms   \n",
       "4      6.2 kg Top Loading Fully Automatic Washing Mac...      KORYO   \n",
       "...                                                  ...        ...   \n",
       "26940                                  Cashew Value Pack     KARMIQ   \n",
       "26941                       Mid Rise Printed Dhoti Pants     DJ & C   \n",
       "26942                                       Ujjaini Poha      ektaa   \n",
       "26943                                       Ujjaini Poha      ektaa   \n",
       "26944                        Button Closer Ladies Wallet  Ivory Tag   \n",
       "\n",
       "           Price  DiscountedPrice  \\\n",
       "0            550            299.0   \n",
       "1             85             42.5   \n",
       "2             45             22.5   \n",
       "3            500            499.0   \n",
       "4      15,000.00          10490.0   \n",
       "...          ...              ...   \n",
       "26940        135            109.0   \n",
       "26941        749            374.5   \n",
       "26942         90             66.0   \n",
       "26943         45             39.0   \n",
       "26944        499            499.0   \n",
       "\n",
       "                                       BreadCrumbs         Category  \\\n",
       "0                     Serveware / Dining & Serving        Serveware   \n",
       "1                 Packaged Food / Pickles & Papads    Packaged Food   \n",
       "2                 Packaged Food / Pickles & Papads    Packaged Food   \n",
       "3                Stationery / Art & Craft Supplies       Stationery   \n",
       "4      Home Appliances / Home & Kitchen Appliances  Home Appliances   \n",
       "...                                            ...              ...   \n",
       "26940  Staples / Dry Fruits & Nuts / Festive Store          Staples   \n",
       "26941                                         Kids             Kids   \n",
       "26942                      Staples / Other Cereals          Staples   \n",
       "26943                      Staples / Other Cereals          Staples   \n",
       "26944                                        Women            Women   \n",
       "\n",
       "                     SubCategory   Quantity  \\\n",
       "0               Dining & Serving   6*300 ml   \n",
       "1               Pickles & Papads      200 g   \n",
       "2               Pickles & Papads     100 ml   \n",
       "3           Art & Craft Supplies      1 Pcs   \n",
       "4      Home & Kitchen Appliances      1 pcs   \n",
       "...                          ...        ...   \n",
       "26940              Festive Store      100 g   \n",
       "26941                        NaN  15-16 Yrs   \n",
       "26942              Other Cereals       1 kg   \n",
       "26943              Other Cereals      500 g   \n",
       "26944                        NaN          S   \n",
       "\n",
       "                                             Description  \\\n",
       "0                                                          \n",
       "1      Nilgiris plain papad can be enjoyed when you'r...   \n",
       "2      Nilgiris plain papad can be enjoyed when you'r...   \n",
       "3                                                          \n",
       "4                                                          \n",
       "...                                                  ...   \n",
       "26940                                                      \n",
       "26941  Up the style quotient of your little girl's ca...   \n",
       "26942                                                      \n",
       "26943                                                      \n",
       "26944                                                      \n",
       "\n",
       "                                         LongDescription  \n",
       "0                 Design:Made from premium quality Glass  \n",
       "1      Nilgiris plain papad can be enjoyed when you'r...  \n",
       "2      Nilgiris plain papad can be enjoyed when you'r...  \n",
       "3               Smart Kit With Bag     Ideal for gifting  \n",
       "4      One Touch Smart Wash Button8 Wash ProgramsMagi...  \n",
       "...                                                  ...  \n",
       "26940  Karmiq Cashews come with a naturally sweet fla...  \n",
       "26941  Fabric & Care:Made of 100% Cotton FabricDo not...  \n",
       "26942  Ektaa brings to you authentic foods from diver...  \n",
       "26943  Ektaa brings to you authentic foods from diver...  \n",
       "26944  a. BI-Fold Wallet with coin Pocket.b.  5 card ...  \n",
       "\n",
       "[26945 rows x 10 columns]"
      ]
     },
     "execution_count": 11,
     "metadata": {},
     "output_type": "execute_result"
    }
   ],
   "source": [
    "ds = pd.read_csv('BigBazaar.csv')\n",
    "ds"
   ]
  },
  {
   "cell_type": "markdown",
   "id": "93a461ea-86b6-47e8-ae2f-09539abf39c0",
   "metadata": {},
   "source": [
    "**Ketentuan Analisis Dataset**\n",
    "\n",
    "- Informasi yang didapatkan adalah jumlah record, nama attribute, jumlah attribute dengan tipe objek, jumlah attribute dengan tipe angka, jumlah attribute yang memiliki nilai null.\n",
    "- Masukkan informasi di atas dalam dictionary dengan key sesuai nama informasinya. Tampilkan isi dari dictionary tersebut sebagus mungkin.\n",
    "- Tampilkan rata-rata, standar deviasi, nilai minimum, nilai maksimum, Q1, Q2, dan Q3 dari attribute bertipe angka.\n",
    "- Tampilkan nilai korelasi attribute bertipe angka.\n",
    "- Rubah nilai salah satu attribute bertipe angka menjadi desimal 3 angka dibelakang koma jika tidak ada, lakukan sebaliknya (dari desimal menjadi bilangan bulat).\n",
    "- Tampilkan 10 record pertama dari attribute bertipe angka.\n",
    "- Simpan dataset dengan attribute bertipe angka ke dalam file CSV."
   ]
  },
  {
   "cell_type": "markdown",
   "id": "117635f4-b23d-4857-999d-40edf9607de8",
   "metadata": {},
   "source": [
    "**Membuat Variabel yang menyimpan data - data yang diperlukan sesuai dengan spesifikasi posttest**"
   ]
  },
  {
   "cell_type": "code",
   "execution_count": 20,
   "id": "c2478833-17d6-4271-97f3-8707576545f9",
   "metadata": {},
   "outputs": [],
   "source": [
    "total_record = len(ds)\n",
    "attribute_name = ds.columns\n",
    "total_obj_attribute = len(ds.select_dtypes(include=['object']).columns)\n",
    "total_number_attribute = len(ds.select_dtypes(include=['int64', 'float64']).columns)\n",
    "total_null_attribute = len(ds.columns[ds.isna().sum() > 0])"
   ]
  },
  {
   "cell_type": "markdown",
   "id": "9d205495-0509-4bde-8ae9-555d86617527",
   "metadata": {},
   "source": [
    "**Memindahkan semua variabel tadi kedalam dictionary**"
   ]
  },
  {
   "cell_type": "code",
   "execution_count": 30,
   "id": "ad7b3fd3-4d3a-4896-96c7-76f2e9e5070a",
   "metadata": {},
   "outputs": [],
   "source": [
    "data = {\n",
    "    \"Total Record\": total_record,\n",
    "    \"Attribute Name\": attribute_name.to_list(),\n",
    "    \"Total Object Attribute\": total_obj_attribute,\n",
    "    \"Total Number Attribute\": total_number_attribute,\n",
    "    \"Total NULL Attribute\" : total_null_attribute,\n",
    "}"
   ]
  },
  {
   "cell_type": "markdown",
   "id": "76bc8b73-22c3-4585-b7a8-d1707f40bbd0",
   "metadata": {},
   "source": [
    "**Menampilkan data dalam bentuk dictionary menggunakan looping for items()**"
   ]
  },
  {
   "cell_type": "code",
   "execution_count": 31,
   "id": "e1a13e22-91b5-4835-9232-85c2b0da1ec6",
   "metadata": {},
   "outputs": [
    {
     "name": "stdout",
     "output_type": "stream",
     "text": [
      "Total Record : 26945\n",
      "Attribute Name : ['Name', 'Brand', 'Price', 'DiscountedPrice', 'BreadCrumbs', 'Category', 'SubCategory', 'Quantity', 'Description', 'LongDescription']\n",
      "Total Object Attribute : 9\n",
      "Total Number Attribute : 1\n",
      "Total NULL Attribute : 5\n"
     ]
    }
   ],
   "source": [
    "for column, value in data.items():\n",
    "    print(column,':',value)"
   ]
  },
  {
   "cell_type": "markdown",
   "id": "af0992c9-59f0-432d-afb8-2b0511e4fb37",
   "metadata": {},
   "source": [
    "**Menampilkan rata-rata, standar deviasi, nilai minimum, nilai maksimum, Q1, Q2, dan Q3 dari attribute bertipe angka.**\n",
    "\n",
    "**Describe adalah sebuah fungsi untuk melakukan perhitungan statistikal pada attribute bertipe angka**\n",
    "\n",
    "**Menggunakan loc agar menampilkan yang diperlukan saja**\n"
   ]
  },
  {
   "cell_type": "code",
   "execution_count": null,
   "id": "07437bed-7eb2-4b97-9164-d2de0e2facf7",
   "metadata": {},
   "outputs": [
    {
     "data": {
      "text/html": [
       "<div>\n",
       "<style scoped>\n",
       "    .dataframe tbody tr th:only-of-type {\n",
       "        vertical-align: middle;\n",
       "    }\n",
       "\n",
       "    .dataframe tbody tr th {\n",
       "        vertical-align: top;\n",
       "    }\n",
       "\n",
       "    .dataframe thead th {\n",
       "        text-align: right;\n",
       "    }\n",
       "</style>\n",
       "<table border=\"1\" class=\"dataframe\">\n",
       "  <thead>\n",
       "    <tr style=\"text-align: right;\">\n",
       "      <th></th>\n",
       "      <th>DiscountedPrice</th>\n",
       "    </tr>\n",
       "  </thead>\n",
       "  <tbody>\n",
       "    <tr>\n",
       "      <th>mean</th>\n",
       "      <td>541.095255</td>\n",
       "    </tr>\n",
       "    <tr>\n",
       "      <th>std</th>\n",
       "      <td>1181.252033</td>\n",
       "    </tr>\n",
       "    <tr>\n",
       "      <th>max</th>\n",
       "      <td>94990.000000</td>\n",
       "    </tr>\n",
       "    <tr>\n",
       "      <th>25%</th>\n",
       "      <td>209.300000</td>\n",
       "    </tr>\n",
       "    <tr>\n",
       "      <th>50%</th>\n",
       "      <td>399.000000</td>\n",
       "    </tr>\n",
       "    <tr>\n",
       "      <th>75%</th>\n",
       "      <td>629.100000</td>\n",
       "    </tr>\n",
       "  </tbody>\n",
       "</table>\n",
       "</div>"
      ],
      "text/plain": [
       "      DiscountedPrice\n",
       "mean       541.095255\n",
       "std       1181.252033\n",
       "max      94990.000000\n",
       "25%        209.300000\n",
       "50%        399.000000\n",
       "75%        629.100000"
      ]
     },
     "execution_count": 44,
     "metadata": {},
     "output_type": "execute_result"
    }
   ],
   "source": [
    "ds.describe().loc[['mean', 'std', 'max', '25%', '50%', '75%']]"
   ]
  },
  {
   "cell_type": "markdown",
   "id": "21770a5b-9e3e-4c8e-98a0-8fd3145d63fe",
   "metadata": {},
   "source": [
    "**Menggunakan fungsi .corr untuk menampilkan nilai korelasi antara attribute bertipe angka**"
   ]
  },
  {
   "cell_type": "code",
   "execution_count": 46,
   "id": "ee568349-43c3-433b-91ca-108870b9f676",
   "metadata": {},
   "outputs": [
    {
     "data": {
      "text/html": [
       "<div>\n",
       "<style scoped>\n",
       "    .dataframe tbody tr th:only-of-type {\n",
       "        vertical-align: middle;\n",
       "    }\n",
       "\n",
       "    .dataframe tbody tr th {\n",
       "        vertical-align: top;\n",
       "    }\n",
       "\n",
       "    .dataframe thead th {\n",
       "        text-align: right;\n",
       "    }\n",
       "</style>\n",
       "<table border=\"1\" class=\"dataframe\">\n",
       "  <thead>\n",
       "    <tr style=\"text-align: right;\">\n",
       "      <th></th>\n",
       "      <th>DiscountedPrice</th>\n",
       "    </tr>\n",
       "  </thead>\n",
       "  <tbody>\n",
       "    <tr>\n",
       "      <th>DiscountedPrice</th>\n",
       "      <td>1.0</td>\n",
       "    </tr>\n",
       "  </tbody>\n",
       "</table>\n",
       "</div>"
      ],
      "text/plain": [
       "                 DiscountedPrice\n",
       "DiscountedPrice              1.0"
      ]
     },
     "execution_count": 46,
     "metadata": {},
     "output_type": "execute_result"
    }
   ],
   "source": [
    "ds.corr()"
   ]
  },
  {
   "cell_type": "markdown",
   "id": "184b6ce0-2026-44df-a1bd-3614d5d7686f",
   "metadata": {},
   "source": [
    "**Mengubah Salah satu Attribute Angka menjadi desimal 3 angka dibelakang koma**\n"
   ]
  },
  {
   "cell_type": "code",
   "execution_count": 50,
   "id": "73ed37b6-5091-4a15-9443-1c5cfd59613e",
   "metadata": {},
   "outputs": [
    {
     "data": {
      "text/plain": [
       "0         0.2990\n",
       "1         0.0425\n",
       "2         0.0225\n",
       "3         0.4990\n",
       "4        10.4900\n",
       "          ...   \n",
       "26940     0.1090\n",
       "26941     0.3745\n",
       "26942     0.0660\n",
       "26943     0.0390\n",
       "26944     0.4990\n",
       "Name: DiscountedPrice, Length: 26945, dtype: float64"
      ]
     },
     "execution_count": 50,
     "metadata": {},
     "output_type": "execute_result"
    }
   ],
   "source": [
    "ds['DiscountedPrice']*0.001"
   ]
  },
  {
   "cell_type": "markdown",
   "id": "33ca8c25-40ec-4c36-8978-3f3f06c420bd",
   "metadata": {},
   "source": [
    "**Menampilkan 10 record dari pertama dari Attribute Angka saja**\n",
    "\n",
    "**Menggunakan fungsi head() untuk menampilkan 10 data pertama**\n",
    "\n",
    "**Menggunakan Include agar setiap attribute yang bertipe angka terpanggil**"
   ]
  },
  {
   "cell_type": "code",
   "execution_count": 52,
   "id": "50e8e868-22b8-4189-aa6f-06511d8a2667",
   "metadata": {},
   "outputs": [
    {
     "data": {
      "text/html": [
       "<div>\n",
       "<style scoped>\n",
       "    .dataframe tbody tr th:only-of-type {\n",
       "        vertical-align: middle;\n",
       "    }\n",
       "\n",
       "    .dataframe tbody tr th {\n",
       "        vertical-align: top;\n",
       "    }\n",
       "\n",
       "    .dataframe thead th {\n",
       "        text-align: right;\n",
       "    }\n",
       "</style>\n",
       "<table border=\"1\" class=\"dataframe\">\n",
       "  <thead>\n",
       "    <tr style=\"text-align: right;\">\n",
       "      <th></th>\n",
       "      <th>DiscountedPrice</th>\n",
       "    </tr>\n",
       "  </thead>\n",
       "  <tbody>\n",
       "    <tr>\n",
       "      <th>0</th>\n",
       "      <td>299.0</td>\n",
       "    </tr>\n",
       "    <tr>\n",
       "      <th>1</th>\n",
       "      <td>42.5</td>\n",
       "    </tr>\n",
       "    <tr>\n",
       "      <th>2</th>\n",
       "      <td>22.5</td>\n",
       "    </tr>\n",
       "    <tr>\n",
       "      <th>3</th>\n",
       "      <td>499.0</td>\n",
       "    </tr>\n",
       "    <tr>\n",
       "      <th>4</th>\n",
       "      <td>10490.0</td>\n",
       "    </tr>\n",
       "    <tr>\n",
       "      <th>5</th>\n",
       "      <td>130.0</td>\n",
       "    </tr>\n",
       "    <tr>\n",
       "      <th>6</th>\n",
       "      <td>95.0</td>\n",
       "    </tr>\n",
       "    <tr>\n",
       "      <th>7</th>\n",
       "      <td>189.0</td>\n",
       "    </tr>\n",
       "    <tr>\n",
       "      <th>8</th>\n",
       "      <td>9.0</td>\n",
       "    </tr>\n",
       "    <tr>\n",
       "      <th>9</th>\n",
       "      <td>168.0</td>\n",
       "    </tr>\n",
       "  </tbody>\n",
       "</table>\n",
       "</div>"
      ],
      "text/plain": [
       "   DiscountedPrice\n",
       "0            299.0\n",
       "1             42.5\n",
       "2             22.5\n",
       "3            499.0\n",
       "4          10490.0\n",
       "5            130.0\n",
       "6             95.0\n",
       "7            189.0\n",
       "8              9.0\n",
       "9            168.0"
      ]
     },
     "execution_count": 52,
     "metadata": {},
     "output_type": "execute_result"
    }
   ],
   "source": [
    "number_attribute = ds.select_dtypes(include=['int64', 'float64'])\n",
    "number_attribute.head(10)"
   ]
  },
  {
   "cell_type": "markdown",
   "id": "5ad31e1a-9f14-4ca2-b3f4-5cbc0b66f88b",
   "metadata": {},
   "source": [
    "**Memindahkan Dataset yang berattribute angka ke file csv**\n",
    "\n",
    "**Menggunakan fungsi to_csv**"
   ]
  },
  {
   "cell_type": "code",
   "execution_count": 56,
   "id": "8234753b-ad49-4771-8b33-3b9df270c4cc",
   "metadata": {},
   "outputs": [],
   "source": [
    "number_attribute.to_csv('BigBazaar_Number_Version.csv', index=False)"
   ]
  },
  {
   "cell_type": "markdown",
   "id": "0330bb28-e48c-42c8-8f90-d249863716cd",
   "metadata": {},
   "source": [
    "**Bonus Menampilkan file csv yang baru dibuat**"
   ]
  },
  {
   "cell_type": "code",
   "execution_count": 58,
   "id": "663a4409-ffb4-4028-a671-2e3ce5e417cb",
   "metadata": {},
   "outputs": [],
   "source": [
    "dsn = pd.read_csv('BigBazaar_Number_Version.csv')"
   ]
  },
  {
   "cell_type": "code",
   "execution_count": 59,
   "id": "73c59052-8fc7-4f56-8545-7612a09489c7",
   "metadata": {},
   "outputs": [
    {
     "data": {
      "text/html": [
       "<div>\n",
       "<style scoped>\n",
       "    .dataframe tbody tr th:only-of-type {\n",
       "        vertical-align: middle;\n",
       "    }\n",
       "\n",
       "    .dataframe tbody tr th {\n",
       "        vertical-align: top;\n",
       "    }\n",
       "\n",
       "    .dataframe thead th {\n",
       "        text-align: right;\n",
       "    }\n",
       "</style>\n",
       "<table border=\"1\" class=\"dataframe\">\n",
       "  <thead>\n",
       "    <tr style=\"text-align: right;\">\n",
       "      <th></th>\n",
       "      <th>DiscountedPrice</th>\n",
       "    </tr>\n",
       "  </thead>\n",
       "  <tbody>\n",
       "    <tr>\n",
       "      <th>0</th>\n",
       "      <td>299.0</td>\n",
       "    </tr>\n",
       "    <tr>\n",
       "      <th>1</th>\n",
       "      <td>42.5</td>\n",
       "    </tr>\n",
       "    <tr>\n",
       "      <th>2</th>\n",
       "      <td>22.5</td>\n",
       "    </tr>\n",
       "    <tr>\n",
       "      <th>3</th>\n",
       "      <td>499.0</td>\n",
       "    </tr>\n",
       "    <tr>\n",
       "      <th>4</th>\n",
       "      <td>10490.0</td>\n",
       "    </tr>\n",
       "    <tr>\n",
       "      <th>...</th>\n",
       "      <td>...</td>\n",
       "    </tr>\n",
       "    <tr>\n",
       "      <th>26940</th>\n",
       "      <td>109.0</td>\n",
       "    </tr>\n",
       "    <tr>\n",
       "      <th>26941</th>\n",
       "      <td>374.5</td>\n",
       "    </tr>\n",
       "    <tr>\n",
       "      <th>26942</th>\n",
       "      <td>66.0</td>\n",
       "    </tr>\n",
       "    <tr>\n",
       "      <th>26943</th>\n",
       "      <td>39.0</td>\n",
       "    </tr>\n",
       "    <tr>\n",
       "      <th>26944</th>\n",
       "      <td>499.0</td>\n",
       "    </tr>\n",
       "  </tbody>\n",
       "</table>\n",
       "<p>26945 rows × 1 columns</p>\n",
       "</div>"
      ],
      "text/plain": [
       "       DiscountedPrice\n",
       "0                299.0\n",
       "1                 42.5\n",
       "2                 22.5\n",
       "3                499.0\n",
       "4              10490.0\n",
       "...                ...\n",
       "26940            109.0\n",
       "26941            374.5\n",
       "26942             66.0\n",
       "26943             39.0\n",
       "26944            499.0\n",
       "\n",
       "[26945 rows x 1 columns]"
      ]
     },
     "execution_count": 59,
     "metadata": {},
     "output_type": "execute_result"
    }
   ],
   "source": [
    "dsn"
   ]
  },
  {
   "cell_type": "code",
   "execution_count": null,
   "id": "2048e6a0-e3c1-4991-acdd-e4217296d040",
   "metadata": {},
   "outputs": [],
   "source": []
  }
 ],
 "metadata": {
  "kernelspec": {
   "display_name": "Basith_071",
   "language": "python",
   "name": "basith_071"
  },
  "language_info": {
   "codemirror_mode": {
    "name": "ipython",
    "version": 3
   },
   "file_extension": ".py",
   "mimetype": "text/x-python",
   "name": "python",
   "nbconvert_exporter": "python",
   "pygments_lexer": "ipython3",
   "version": "3.10.7"
  }
 },
 "nbformat": 4,
 "nbformat_minor": 5
}
