{
 "cells": [
  {
   "cell_type": "markdown",
   "metadata": {},
   "source": [
    "## Posttest 7\n",
    "### Muhammad Basith Algiffari\n",
    "### 2009106071"
   ]
  },
  {
   "cell_type": "markdown",
   "metadata": {},
   "source": [
    "Mengimport library yang diperlukan"
   ]
  },
  {
   "cell_type": "code",
   "execution_count": 14,
   "metadata": {},
   "outputs": [],
   "source": [
    "import tensorflow as tf\n",
    "import numpy as np"
   ]
  },
  {
   "cell_type": "markdown",
   "metadata": {},
   "source": [
    "membuat variabel random_tensor menggunakan fungsi tensorflow yaitu random.normal() dan prime_tensor yang merupakan list berisi bilangan prima yang di convert ke tensorflow menggunakan fungsi convert_to_tensor()"
   ]
  },
  {
   "cell_type": "code",
   "execution_count": 16,
   "metadata": {},
   "outputs": [
    {
     "data": {
      "text/plain": [
       "<tf.Tensor: shape=(5, 5), dtype=float32, numpy=\n",
       "array([[-0.60956943, -2.539072  , -0.36086676, -0.09337256,  1.8954229 ],\n",
       "       [-0.48581547,  0.8314311 ,  0.12846115, -0.15661429,  0.938417  ],\n",
       "       [ 1.2420084 , -0.12758482,  0.05109114, -1.0636181 , -1.667379  ],\n",
       "       [ 0.33053935, -0.26773483,  1.4997106 ,  0.06089767,  0.56461537],\n",
       "       [ 1.2150694 ,  0.03344109, -0.49372026,  1.297015  , -1.8034872 ]],\n",
       "      dtype=float32)>"
      ]
     },
     "execution_count": 16,
     "metadata": {},
     "output_type": "execute_result"
    }
   ],
   "source": [
    "random_tensor = tf.random.normal(shape=[5,5])\n",
    "random_tensor"
   ]
  },
  {
   "cell_type": "code",
   "execution_count": 17,
   "metadata": {},
   "outputs": [
    {
     "data": {
      "text/plain": [
       "<tf.Tensor: shape=(5, 5), dtype=float32, numpy=\n",
       "array([[ 2.,  3.,  5.,  7., 11.],\n",
       "       [13., 17., 19., 23., 29.],\n",
       "       [31., 37., 41., 43., 47.],\n",
       "       [53., 59., 61., 67., 71.],\n",
       "       [73., 79., 83., 89., 97.]], dtype=float32)>"
      ]
     },
     "execution_count": 17,
     "metadata": {},
     "output_type": "execute_result"
    }
   ],
   "source": [
    "list_tensor = [[2, 3, 5, 7, 11], [13, 17, 19, 23, 29],\n",
    "                [31, 37, 41, 43, 47], [53, 59, 61, 67, 71],\n",
    "                [73, 79, 83, 89, 97]]\n",
    "prime_tensor = tf.convert_to_tensor(list_tensor, dtype=tf.float32)\n",
    "prime_tensor"
   ]
  },
  {
   "cell_type": "markdown",
   "metadata": {},
   "source": [
    "### Arithmetic Operations on Tensors\n",
    "melakukan operasi aritmatika dalam tensor flow"
   ]
  },
  {
   "cell_type": "markdown",
   "metadata": {},
   "source": [
    "### Menggunakan fungsi add/penjumlahan"
   ]
  },
  {
   "cell_type": "code",
   "execution_count": 18,
   "metadata": {},
   "outputs": [
    {
     "name": "stdout",
     "output_type": "stream",
     "text": [
      "tf.Tensor(\n",
      "[[ 1.3904306   0.46092796  4.6391335   6.9066277  12.895423  ]\n",
      " [12.514185   17.83143    19.128462   22.843386   29.938417  ]\n",
      " [32.24201    36.872414   41.05109    41.936382   45.332623  ]\n",
      " [53.33054    58.732265   62.49971    67.0609     71.56461   ]\n",
      " [74.21507    79.03344    82.50628    90.29701    95.19651   ]], shape=(5, 5), dtype=float32)\n"
     ]
    }
   ],
   "source": [
    "print(tf.add(random_tensor, prime_tensor))"
   ]
  },
  {
   "cell_type": "markdown",
   "metadata": {},
   "source": [
    "### Menggunakan fungsi subtract/pengurangan"
   ]
  },
  {
   "cell_type": "code",
   "execution_count": 19,
   "metadata": {},
   "outputs": [
    {
     "name": "stdout",
     "output_type": "stream",
     "text": [
      "tf.Tensor(\n",
      "[[ -2.6095695  -5.539072   -5.3608665  -7.0933723  -9.104577 ]\n",
      " [-13.485815  -16.16857   -18.871538  -23.156614  -28.061583 ]\n",
      " [-29.757992  -37.127586  -40.94891   -44.063618  -48.667377 ]\n",
      " [-52.66946   -59.267735  -59.50029   -66.9391    -70.43539  ]\n",
      " [-71.78493   -78.96656   -83.49372   -87.70299   -98.80349  ]], shape=(5, 5), dtype=float32)\n"
     ]
    }
   ],
   "source": [
    "print(tf.subtract(random_tensor, prime_tensor))"
   ]
  },
  {
   "cell_type": "markdown",
   "metadata": {},
   "source": [
    "### Menggunakan fungsi multiply/perkalian"
   ]
  },
  {
   "cell_type": "code",
   "execution_count": 20,
   "metadata": {},
   "outputs": [
    {
     "name": "stdout",
     "output_type": "stream",
     "text": [
      "tf.Tensor(\n",
      "[[  -1.2191389   -7.617216    -1.8043338   -0.6536079   20.849651 ]\n",
      " [  -6.315601    14.134329     2.4407618   -3.6021287   27.214094 ]\n",
      " [  38.502262    -4.7206383    2.0947368  -45.735577   -78.36681  ]\n",
      " [  17.518585   -15.796354    91.482346     4.0801444   40.087692 ]\n",
      " [  88.700066     2.6418457  -40.978783   115.43433   -174.93826  ]], shape=(5, 5), dtype=float32)\n"
     ]
    }
   ],
   "source": [
    "print(tf.multiply(random_tensor, prime_tensor))"
   ]
  },
  {
   "cell_type": "markdown",
   "metadata": {},
   "source": [
    "### Menggunakan fungsi matmul/perhitungan secara matrix"
   ]
  },
  {
   "cell_type": "code",
   "execution_count": 21,
   "metadata": {},
   "outputs": [
    {
     "name": "stdout",
     "output_type": "stream",
     "text": [
      "tf.Tensor(\n",
      "[[  88.00318    85.88443    85.53863    84.25377    79.92748 ]\n",
      " [  74.023155   82.324646   86.97016    94.271996  104.71204 ]\n",
      " [-175.68118  -191.02896  -197.39249  -211.70262  -224.88924 ]\n",
      " [  88.11605   100.12699   108.63171   114.97434   125.44945 ]\n",
      " [ -75.353226  -80.00555   -84.103325  -85.565704  -91.71949 ]], shape=(5, 5), dtype=float32)\n"
     ]
    }
   ],
   "source": [
    "print(tf.matmul(random_tensor, prime_tensor))"
   ]
  },
  {
   "cell_type": "markdown",
   "metadata": {},
   "source": [
    "### Menggunakan fungsi argmax/mencari nilai terbesar dan argmin/ mencari nilai terkecil"
   ]
  },
  {
   "cell_type": "code",
   "execution_count": 23,
   "metadata": {},
   "outputs": [
    {
     "name": "stdout",
     "output_type": "stream",
     "text": [
      "tf.Tensor(\n",
      "[[-0.60956943 -2.539072   -0.36086676 -0.09337256  1.8954229 ]\n",
      " [-0.48581547  0.8314311   0.12846115 -0.15661429  0.938417  ]\n",
      " [ 1.2420084  -0.12758482  0.05109114 -1.0636181  -1.667379  ]\n",
      " [ 0.33053935 -0.26773483  1.4997106   0.06089767  0.56461537]\n",
      " [ 1.2150694   0.03344109 -0.49372026  1.297015   -1.8034872 ]], shape=(5, 5), dtype=float32)\n",
      "Lokasi value terbesar adalah  [2 1 3 4 0]\n",
      "Lokasi value terkecil adalah  [1 0 4 1 4]\n"
     ]
    }
   ],
   "source": [
    "print(random_tensor)\n",
    "max_tensor = tf.argmax(random_tensor, axis=0)\n",
    "min_tensor = tf.argmin(random_tensor, axis=1)\n",
    "print(\"Lokasi value terbesar adalah \",max_tensor.numpy())\n",
    "print(\"Lokasi value terkecil adalah \",min_tensor.numpy())"
   ]
  },
  {
   "cell_type": "markdown",
   "metadata": {},
   "source": [
    "Melakukan penggabungan variabel random_tensor dan prime_tensor menggunakan fungsi concat"
   ]
  },
  {
   "cell_type": "code",
   "execution_count": 27,
   "metadata": {},
   "outputs": [
    {
     "name": "stdout",
     "output_type": "stream",
     "text": [
      "tf.Tensor(\n",
      "[[-6.0956943e-01 -2.5390720e+00 -3.6086676e-01 -9.3372561e-02\n",
      "   1.8954229e+00]\n",
      " [-4.8581547e-01  8.3143109e-01  1.2846115e-01 -1.5661429e-01\n",
      "   9.3841702e-01]\n",
      " [ 1.2420084e+00 -1.2758482e-01  5.1091142e-02 -1.0636181e+00\n",
      "  -1.6673790e+00]\n",
      " [ 3.3053935e-01 -2.6773483e-01  1.4997106e+00  6.0897674e-02\n",
      "   5.6461537e-01]\n",
      " [ 1.2150694e+00  3.3441085e-02 -4.9372026e-01  1.2970150e+00\n",
      "  -1.8034872e+00]\n",
      " [ 2.0000000e+00  3.0000000e+00  5.0000000e+00  7.0000000e+00\n",
      "   1.1000000e+01]\n",
      " [ 1.3000000e+01  1.7000000e+01  1.9000000e+01  2.3000000e+01\n",
      "   2.9000000e+01]\n",
      " [ 3.1000000e+01  3.7000000e+01  4.1000000e+01  4.3000000e+01\n",
      "   4.7000000e+01]\n",
      " [ 5.3000000e+01  5.9000000e+01  6.1000000e+01  6.7000000e+01\n",
      "   7.1000000e+01]\n",
      " [ 7.3000000e+01  7.9000000e+01  8.3000000e+01  8.9000000e+01\n",
      "   9.7000000e+01]], shape=(10, 5), dtype=float32)\n"
     ]
    }
   ],
   "source": [
    "concat_tensor = tf.concat([random_tensor, prime_tensor], axis=0)\n",
    "print(concat_tensor)"
   ]
  },
  {
   "cell_type": "markdown",
   "metadata": {},
   "source": [
    "Membuat variabel yang mengsorting/mengurutkan data random_tensor dan prime_tensor secara Descending"
   ]
  },
  {
   "cell_type": "code",
   "execution_count": 28,
   "metadata": {},
   "outputs": [],
   "source": [
    "sort_random_tensor = tf.sort(random_tensor, direction=\"DESCENDING\")\n",
    "sort_prime_tensor = tf.sort(prime_tensor, direction=\"DESCENDING\")"
   ]
  },
  {
   "cell_type": "markdown",
   "metadata": {},
   "source": [
    "Menampilkan hasil sorting variabel random_tensor dan prime_tensor"
   ]
  },
  {
   "cell_type": "code",
   "execution_count": 31,
   "metadata": {},
   "outputs": [
    {
     "name": "stdout",
     "output_type": "stream",
     "text": [
      "tf.Tensor(\n",
      "[[ 1.8954229  -0.09337256 -0.36086676 -0.60956943 -2.539072  ]\n",
      " [ 0.938417    0.8314311   0.12846115 -0.15661429 -0.48581547]\n",
      " [ 1.2420084   0.05109114 -0.12758482 -1.0636181  -1.667379  ]\n",
      " [ 1.4997106   0.56461537  0.33053935  0.06089767 -0.26773483]\n",
      " [ 1.297015    1.2150694   0.03344109 -0.49372026 -1.8034872 ]], shape=(5, 5), dtype=float32)\n",
      "tf.Tensor(\n",
      "[[11.  7.  5.  3.  2.]\n",
      " [29. 23. 19. 17. 13.]\n",
      " [47. 43. 41. 37. 31.]\n",
      " [71. 67. 61. 59. 53.]\n",
      " [97. 89. 83. 79. 73.]], shape=(5, 5), dtype=float32)\n"
     ]
    }
   ],
   "source": [
    "print(sort_random_tensor)\n",
    "print(sort_prime_tensor)"
   ]
  }
 ],
 "metadata": {
  "kernelspec": {
   "display_name": "Python 3.10.7 64-bit",
   "language": "python",
   "name": "python3"
  },
  "language_info": {
   "codemirror_mode": {
    "name": "ipython",
    "version": 3
   },
   "file_extension": ".py",
   "mimetype": "text/x-python",
   "name": "python",
   "nbconvert_exporter": "python",
   "pygments_lexer": "ipython3",
   "version": "3.10.7"
  },
  "orig_nbformat": 4,
  "vscode": {
   "interpreter": {
    "hash": "f5d970ce3a869c424d840219ec304347cecc96c42e1b8d72b3facc8cee4d3a35"
   }
  }
 },
 "nbformat": 4,
 "nbformat_minor": 2
}
